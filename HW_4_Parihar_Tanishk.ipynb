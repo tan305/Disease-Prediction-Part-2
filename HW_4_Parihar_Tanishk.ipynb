{
 "cells": [
  {
   "cell_type": "markdown",
   "metadata": {
    "colab_type": "text",
    "id": "CrrWT1tn3ZZE"
   },
   "source": [
    "<h1><center>IST 707: Data Analytics</center>\n",
    "<center>HW4:  Statistical Learning, Deep Learning and A Complete Comparison</center></h1>"
   ]
  },
  {
   "cell_type": "markdown",
   "metadata": {
    "colab_type": "text",
    "id": "jiK6cdaw3ZZG"
   },
   "source": [
    "<h2><left>Name: Tanishk Parihar</left>\n",
    "<br><left>Date of Submission: 04/26/2020</left></h2>"
   ]
  },
  {
   "cell_type": "markdown",
   "metadata": {
    "colab_type": "text",
    "id": "pV_al8lF3ZZH"
   },
   "source": [
    "## Problem Statement\n",
    "\n",
    "In this homework assignment, we have to make use of multiple machine learning algorithms, including logistic\n",
    "regression, multiple artificial neural networks and deep learning models with different architectures to build\n",
    "disease diagnosis models. It is a binary classification problem to predict whether or not a patient has a certain unspecified disease. We will also combine the findings with HW3 results to come up with a ranking of performance for various machine learning models on this dataset."
   ]
  },
  {
   "cell_type": "markdown",
   "metadata": {
    "colab_type": "text",
    "id": "x_S2mggp3ZZI"
   },
   "source": [
    "## Dataset\n",
    "**Attributes’ information about the dataset:**<br>\n",
    "• Age: in years<br>\n",
    "• Gender: male/female<br>\n",
    "• Height: in unit of cm<br>\n",
    "• Weight: in unit of kg<br>\n",
    "• Low Blood Pressure: lower bound of blood pressure measurement<br>\n",
    "• High Blood Pressure: higher bound of blood pressure measurement<br>\n",
    "• Cholesterol: three cholesteral levels<br>\n",
    "• Glucose: three glucose levels<br>\n",
    "• Smoke: 1/0 regarding if the patient smokes<br>\n",
    "• Alcohol: 1/0 regarding if the patient drinks alcohol<br>\n",
    "• Exercise: 1/0 regarding if the patient exercises regularly<br>\n",
    "***• Disease: The binary target variable. Does the patient have the disease?***<br>"
   ]
  },
  {
   "cell_type": "code",
   "execution_count": 1,
   "metadata": {
    "colab": {},
    "colab_type": "code",
    "id": "Aur4YsD10YSe"
   },
   "outputs": [
    {
     "name": "stderr",
     "output_type": "stream",
     "text": [
      "Using TensorFlow backend.\n"
     ]
    }
   ],
   "source": [
    "#Importing all required libraries\n",
    "from numpy.random import seed\n",
    "seed(1)\n",
    "from tensorflow import set_random_seed\n",
    "set_random_seed(2)\n",
    "import numpy as np\n",
    "import tensorflow as tf\n",
    "import random as rn\n",
    "import os\n",
    "os.environ['PYTHONHASHSEED'] = '0'\n",
    "rn.seed(12345)\n",
    "session_conf = tf.ConfigProto(intra_op_parallelism_threads=1, inter_op_parallelism_threads=1)\n",
    "from keras import backend as K\n",
    "sess = tf.Session(graph=tf.get_default_graph(), config=session_conf)\n",
    "K.set_session(sess)\n",
    "import pandas as pd \n",
    "import matplotlib.pyplot as plt\n",
    "import seaborn as sns\n",
    "from sklearn.model_selection import train_test_split\n",
    "from sklearn.preprocessing import StandardScaler,Normalizer\n",
    "from sklearn.metrics import accuracy_score,recall_score,classification_report,precision_score,roc_auc_score,f1_score,roc_curve\n",
    "from sklearn.model_selection import GridSearchCV,RandomizedSearchCV\n",
    "from collections import OrderedDict\n",
    "from sklearn.linear_model import LogisticRegression\n",
    "from sklearn.tree import DecisionTreeClassifier\n",
    "from keras import models\n",
    "from keras.models import Sequential\n",
    "from keras.layers import Dense\n",
    "from keras.callbacks import ModelCheckpoint"
   ]
  },
  {
   "cell_type": "markdown",
   "metadata": {
    "colab_type": "text",
    "id": "fETHWMTl3ZZM"
   },
   "source": [
    "## Data Preparation"
   ]
  },
  {
   "cell_type": "code",
   "execution_count": 2,
   "metadata": {
    "colab": {},
    "colab_type": "code",
    "id": "PBhkKI4W0YSj"
   },
   "outputs": [],
   "source": [
    "#Reads both the data as we will be cleaning both the data simultaneously\n",
    "data=pd.read_csv(\"Disease Prediction Training.csv\")\n",
    "test=pd.read_csv(\"Disease Prediction Testing.csv\")"
   ]
  },
  {
   "cell_type": "code",
   "execution_count": 3,
   "metadata": {
    "colab": {},
    "colab_type": "code",
    "id": "cbtUdMqP3ZZP",
    "scrolled": true
   },
   "outputs": [],
   "source": [
    "#Duplicate rows will be dropped as it will only create noise in our data\n",
    "data.drop_duplicates(keep='first',inplace=True)"
   ]
  },
  {
   "cell_type": "code",
   "execution_count": 4,
   "metadata": {
    "colab": {
     "base_uri": "https://localhost:8080/",
     "height": 34
    },
    "colab_type": "code",
    "id": "ug078Z6U0YSp",
    "outputId": "35488933-13d6-4775-88cc-a63a2447e787",
    "scrolled": true
   },
   "outputs": [
    {
     "data": {
      "text/plain": [
       "0"
      ]
     },
     "execution_count": 4,
     "metadata": {},
     "output_type": "execute_result"
    }
   ],
   "source": [
    "# We check for any null values in our dataset\n",
    "data.isna().sum().sum()"
   ]
  },
  {
   "cell_type": "code",
   "execution_count": 5,
   "metadata": {
    "colab": {
     "base_uri": "https://localhost:8080/",
     "height": 34
    },
    "colab_type": "code",
    "id": "_DlbJX9K3ZZW",
    "outputId": "2aa4d8fc-219f-4c44-ab3c-272202b43abc"
   },
   "outputs": [
    {
     "data": {
      "text/plain": [
       "0"
      ]
     },
     "execution_count": 5,
     "metadata": {},
     "output_type": "execute_result"
    }
   ],
   "source": [
    "#We do the same for the test set\n",
    "test.isna().sum().sum()"
   ]
  },
  {
   "cell_type": "code",
   "execution_count": 6,
   "metadata": {
    "colab": {
     "base_uri": "https://localhost:8080/",
     "height": 67
    },
    "colab_type": "code",
    "id": "BTlx2T-q0YSt",
    "outputId": "10e32360-ee8b-4fcb-be32-4708001e07a8"
   },
   "outputs": [
    {
     "data": {
      "text/plain": [
       "1    24076\n",
       "0    23172\n",
       "Name: Disease, dtype: int64"
      ]
     },
     "execution_count": 6,
     "metadata": {},
     "output_type": "execute_result"
    }
   ],
   "source": [
    "# The value counts for the two classes to check if there is an imbalance  \n",
    "data.Disease.value_counts()"
   ]
  },
  {
   "cell_type": "markdown",
   "metadata": {
    "colab_type": "text",
    "id": "f1jvs4Tm3ZZe"
   },
   "source": [
    "**First we will create a BMI column, which I believe can help us to tell if a person's healthy or not, having a high BMI means a person is obese which increases the chance of person suffering from the disease. So, I think it will significantly help us in classifying our target. We can later check if this variable is helpful in our classification task by printing the feature importance of the tree algorithms.**"
   ]
  },
  {
   "cell_type": "markdown",
   "metadata": {
    "colab_type": "text",
    "id": "MND74CNe3ZZf"
   },
   "source": [
    "**BMI is calculated using weight and height, so we will first check if there is any outlier data in both the columns.**"
   ]
  },
  {
   "cell_type": "code",
   "execution_count": 7,
   "metadata": {
    "colab": {
     "base_uri": "https://localhost:8080/",
     "height": 347
    },
    "colab_type": "code",
    "id": "gJp1gieX0YS2",
    "outputId": "225fec7a-c589-4390-b2a2-b6355ad77bcc",
    "scrolled": true
   },
   "outputs": [
    {
     "name": "stdout",
     "output_type": "stream",
     "text": [
      "We can clearly see that our Height data contains outlier because our data is highly skewed.\n"
     ]
    },
    {
     "data": {
      "image/png": "[encoded data removed]",
      "text/plain": [
       "<matplotlib.figure.Figure at 0x15475541f98>"
      ]
     },
     "metadata": {},
     "output_type": "display_data"
    }
   ],
   "source": [
    "fig,ax=plt.subplots(1,2,figsize=(20,5))\n",
    "ax[0].hist(data.Height);\n",
    "ax[0].set_title(\"Histogram plot of Height\")\n",
    "ax[0].set_xlabel(\"Height\")\n",
    "ax[0].set_ylabel(\"Count\")\n",
    "ax[1].set_ylabel(\"Height\")\n",
    "ax[1].set_title(\"Boxplot of Height\")\n",
    "ax[1].boxplot(data.Height);\n",
    "print(\"We can clearly see that our Height data contains outlier because our data is highly skewed.\")"
   ]
  },
  {
   "cell_type": "markdown",
   "metadata": {
    "colab_type": "text",
    "id": "lfqQ4MRV3ZZk"
   },
   "source": [
    "**It is very unlikely we will see people who have a height less than 120 cm given that the age of people in our data is more 20 years. So, we can clip the lower limit to 120 cm. The higher values of the data seems fine.**"
   ]
  },
  {
   "cell_type": "code",
   "execution_count": 8,
   "metadata": {
    "colab": {},
    "colab_type": "code",
    "id": "h8gCRy4R0YS7",
    "scrolled": true
   },
   "outputs": [],
   "source": [
    "data.Height=data[\"Height\"].clip(lower=120)\n",
    "test.Height=test[\"Height\"].clip(lower=120)"
   ]
  },
  {
   "cell_type": "code",
   "execution_count": 9,
   "metadata": {
    "colab": {
     "base_uri": "https://localhost:8080/",
     "height": 347
    },
    "colab_type": "code",
    "id": "SHP9gsqV3ZZo",
    "outputId": "ef141cae-bd2b-403a-de69-cd935d2b404b"
   },
   "outputs": [
    {
     "name": "stdout",
     "output_type": "stream",
     "text": [
      "We can clearly see that our Weight data contains outlier because our data is highly skewed.\n"
     ]
    },
    {
     "data": {
      "image/png": "[encoded data removed]",
      "text/plain": [
       "<matplotlib.figure.Figure at 0x15475d35e10>"
      ]
     },
     "metadata": {},
     "output_type": "display_data"
    }
   ],
   "source": [
    "fig,ax=plt.subplots(1,2,figsize=(20,5))\n",
    "ax[0].hist(data.Weight);\n",
    "ax[0].set_title(\"Histogram plot of Weight\")\n",
    "ax[0].set_xlabel(\"Weight\")\n",
    "ax[0].set_ylabel(\"Count\")\n",
    "ax[1].set_ylabel(\"Weight\")\n",
    "ax[1].set_title(\"Boxplot of Weight\")\n",
    "ax[1].boxplot(data.Weight);\n",
    "print(\"We can clearly see that our Weight data contains outlier because our data is highly skewed.\")"
   ]
  },
  {
   "cell_type": "markdown",
   "metadata": {
    "colab_type": "text",
    "id": "LNK8Bcc33ZZr"
   },
   "source": [
    "**It is very unlikely we will see people who having a weight less than 40 kg given that the age of people given that the weight is not less than 120cm. So, we can clip the lower limit to 40 kg. Here also the higher values of the data seems fine.**"
   ]
  },
  {
   "cell_type": "code",
   "execution_count": 10,
   "metadata": {
    "colab": {},
    "colab_type": "code",
    "id": "BTpx4bNN0YTA"
   },
   "outputs": [],
   "source": [
    "data.Weight=data.Weight.clip(lower=40)\n",
    "test.Weight=test.Weight.clip(lower=40)"
   ]
  },
  {
   "cell_type": "markdown",
   "metadata": {
    "colab_type": "text",
    "id": "P2KK5UCw3ZZu"
   },
   "source": [
    "**Now, we have removed the outliers, we can calculate the BMI. After calculating the BMI, again we will check for outliers and remove those rows which have a really high or really low BMI values because this rows can be noise in our data which needs to be removed.**"
   ]
  },
  {
   "cell_type": "code",
   "execution_count": 11,
   "metadata": {
    "colab": {},
    "colab_type": "code",
    "id": "0VYjAsu90YSx"
   },
   "outputs": [],
   "source": [
    "data[\"BMI\"]=data[\"Weight\"]/((data.Height/100)**2)\n",
    "test[\"BMI\"]=test[\"Weight\"]/((test.Height/100)**2)"
   ]
  },
  {
   "cell_type": "markdown",
   "metadata": {
    "colab_type": "text",
    "id": "XvSlZakP3ZZx"
   },
   "source": [
    "**For the lower limit of BMI we have chosen 9 and higher limit is chosen as 80. Because, most of the BMI charts have this range of BMI.**"
   ]
  },
  {
   "cell_type": "code",
   "execution_count": 12,
   "metadata": {
    "colab": {
     "base_uri": "https://localhost:8080/",
     "height": 195
    },
    "colab_type": "code",
    "id": "tQXge9GR3ZZx",
    "outputId": "b9866528-4cea-4e9a-8f01-b1bd9a9c8a62",
    "scrolled": true
   },
   "outputs": [
    {
     "data": {
      "text/html": [
       "<div>\n",
       "<style scoped>\n",
       "    .dataframe tbody tr th:only-of-type {\n",
       "        vertical-align: middle;\n",
       "    }\n",
       "\n",
       "    .dataframe tbody tr th {\n",
       "        vertical-align: top;\n",
       "    }\n",
       "\n",
       "    .dataframe thead th {\n",
       "        text-align: right;\n",
       "    }\n",
       "</style>\n",
       "<table border=\"1\" class=\"dataframe\">\n",
       "  <thead>\n",
       "    <tr style=\"text-align: right;\">\n",
       "      <th></th>\n",
       "      <th>Age</th>\n",
       "      <th>Gender</th>\n",
       "      <th>Height</th>\n",
       "      <th>Weight</th>\n",
       "      <th>High Blood Pressure</th>\n",
       "      <th>Low Blood Pressure</th>\n",
       "      <th>Cholesterol</th>\n",
       "      <th>Glucose</th>\n",
       "      <th>Smoke</th>\n",
       "      <th>Alcohol</th>\n",
       "      <th>Exercise</th>\n",
       "      <th>Disease</th>\n",
       "      <th>BMI</th>\n",
       "    </tr>\n",
       "  </thead>\n",
       "  <tbody>\n",
       "    <tr>\n",
       "      <th>25215</th>\n",
       "      <td>52</td>\n",
       "      <td>female</td>\n",
       "      <td>120</td>\n",
       "      <td>156.0</td>\n",
       "      <td>140</td>\n",
       "      <td>90</td>\n",
       "      <td>normal</td>\n",
       "      <td>normal</td>\n",
       "      <td>0</td>\n",
       "      <td>0</td>\n",
       "      <td>1</td>\n",
       "      <td>0</td>\n",
       "      <td>108.333333</td>\n",
       "    </tr>\n",
       "    <tr>\n",
       "      <th>29398</th>\n",
       "      <td>53</td>\n",
       "      <td>female</td>\n",
       "      <td>120</td>\n",
       "      <td>168.0</td>\n",
       "      <td>120</td>\n",
       "      <td>80</td>\n",
       "      <td>normal</td>\n",
       "      <td>normal</td>\n",
       "      <td>1</td>\n",
       "      <td>0</td>\n",
       "      <td>1</td>\n",
       "      <td>1</td>\n",
       "      <td>116.666667</td>\n",
       "    </tr>\n",
       "    <tr>\n",
       "      <th>29452</th>\n",
       "      <td>47</td>\n",
       "      <td>female</td>\n",
       "      <td>125</td>\n",
       "      <td>167.0</td>\n",
       "      <td>180</td>\n",
       "      <td>90</td>\n",
       "      <td>normal</td>\n",
       "      <td>high</td>\n",
       "      <td>0</td>\n",
       "      <td>0</td>\n",
       "      <td>1</td>\n",
       "      <td>1</td>\n",
       "      <td>106.880000</td>\n",
       "    </tr>\n",
       "    <tr>\n",
       "      <th>38669</th>\n",
       "      <td>57</td>\n",
       "      <td>female</td>\n",
       "      <td>122</td>\n",
       "      <td>161.0</td>\n",
       "      <td>120</td>\n",
       "      <td>80</td>\n",
       "      <td>normal</td>\n",
       "      <td>normal</td>\n",
       "      <td>0</td>\n",
       "      <td>0</td>\n",
       "      <td>1</td>\n",
       "      <td>1</td>\n",
       "      <td>108.169847</td>\n",
       "    </tr>\n",
       "    <tr>\n",
       "      <th>46982</th>\n",
       "      <td>54</td>\n",
       "      <td>female</td>\n",
       "      <td>120</td>\n",
       "      <td>159.0</td>\n",
       "      <td>200</td>\n",
       "      <td>100</td>\n",
       "      <td>too high</td>\n",
       "      <td>normal</td>\n",
       "      <td>0</td>\n",
       "      <td>0</td>\n",
       "      <td>0</td>\n",
       "      <td>1</td>\n",
       "      <td>110.416667</td>\n",
       "    </tr>\n",
       "  </tbody>\n",
       "</table>\n",
       "</div>"
      ],
      "text/plain": [
       "       Age  Gender  Height  Weight  High Blood Pressure  Low Blood Pressure  \\\n",
       "25215   52  female     120   156.0                  140                  90   \n",
       "29398   53  female     120   168.0                  120                  80   \n",
       "29452   47  female     125   167.0                  180                  90   \n",
       "38669   57  female     122   161.0                  120                  80   \n",
       "46982   54  female     120   159.0                  200                 100   \n",
       "\n",
       "      Cholesterol Glucose  Smoke  Alcohol  Exercise  Disease         BMI  \n",
       "25215      normal  normal      0        0         1        0  108.333333  \n",
       "29398      normal  normal      1        0         1        1  116.666667  \n",
       "29452      normal    high      0        0         1        1  106.880000  \n",
       "38669      normal  normal      0        0         1        1  108.169847  \n",
       "46982    too high  normal      0        0         0        1  110.416667  "
      ]
     },
     "execution_count": 12,
     "metadata": {},
     "output_type": "execute_result"
    }
   ],
   "source": [
    "data[(data[\"BMI\"]<9) | (data[\"BMI\"]>80)]"
   ]
  },
  {
   "cell_type": "code",
   "execution_count": 13,
   "metadata": {
    "colab": {},
    "colab_type": "code",
    "id": "tXDqM_pp0YTD",
    "scrolled": true
   },
   "outputs": [],
   "source": [
    "data.drop(data[(data[\"BMI\"]<9) | (data[\"BMI\"]>80)].index,inplace=True)"
   ]
  },
  {
   "cell_type": "markdown",
   "metadata": {
    "colab_type": "text",
    "id": "xGQTICbC3ZZ2"
   },
   "source": [
    "**Now, we check Low Blood Pressure and High Blood Pressure column if there are any outliers in the data.**"
   ]
  },
  {
   "cell_type": "code",
   "execution_count": 14,
   "metadata": {
    "colab": {
     "base_uri": "https://localhost:8080/",
     "height": 347
    },
    "colab_type": "code",
    "id": "hAjmynmz0YTG",
    "outputId": "782425ef-8c6e-40ed-f0f1-2252a0feb718"
   },
   "outputs": [
    {
     "name": "stdout",
     "output_type": "stream",
     "text": [
      "We can clearly see that our Low Blood Pressure data contains outlier because our data is very highly skewed\n"
     ]
    },
    {
     "data": {
      "image/png": "[encoded data removed]",
      "text/plain": [
       "<matplotlib.figure.Figure at 0x15475bdf908>"
      ]
     },
     "metadata": {},
     "output_type": "display_data"
    }
   ],
   "source": [
    "fig,ax=plt.subplots(1,2,figsize=(20,5))\n",
    "ax[0].hist(data[\"Low Blood Pressure\"]);\n",
    "ax[0].set_title(\"Histogram plot of Low Blood Pressure\")\n",
    "ax[0].set_xlabel(\"Low Blood Preesure\")\n",
    "ax[0].set_ylabel(\"Count\")\n",
    "ax[1].set_ylabel(\"Low Blood Pressure\")\n",
    "ax[1].set_title(\"Boxplot of Low Blood Pressure\")\n",
    "ax[1].boxplot(data[\"Low Blood Pressure\"]);\n",
    "print(\"We can clearly see that our Low Blood Pressure data contains outlier because our data is very highly skewed\")"
   ]
  },
  {
   "cell_type": "markdown",
   "metadata": {
    "colab_type": "text",
    "id": "gcXPAGEf3ZZ7"
   },
   "source": [
    "**We use the lower limit and higher limit of low blood pressure that is usually the limits used in the medical domain and trim the values.**"
   ]
  },
  {
   "cell_type": "code",
   "execution_count": 15,
   "metadata": {
    "colab": {},
    "colab_type": "code",
    "id": "IGsaV4na0YTL"
   },
   "outputs": [],
   "source": [
    "data[\"Low Blood Pressure\"]=data[\"Low Blood Pressure\"].clip(lower=40)\n",
    "data[\"Low Blood Pressure\"]=data[\"Low Blood Pressure\"].clip(upper=160)\n",
    "test[\"Low Blood Pressure\"]=test[\"Low Blood Pressure\"].clip(lower=40)\n",
    "test[\"Low Blood Pressure\"]=test[\"Low Blood Pressure\"].clip(upper=160)"
   ]
  },
  {
   "cell_type": "code",
   "execution_count": 16,
   "metadata": {
    "colab": {
     "base_uri": "https://localhost:8080/",
     "height": 347
    },
    "colab_type": "code",
    "id": "X-yRrec93ZZ_",
    "outputId": "353c3b3a-07c5-4595-b720-1758b6ab35aa"
   },
   "outputs": [
    {
     "name": "stdout",
     "output_type": "stream",
     "text": [
      "We can clearly see that our High Blood Pressure data contains outlier because our data is very highly skewed\n"
     ]
    },
    {
     "data": {
      "image/png": "[encoded data removed]",
      "text/plain": [
       "<matplotlib.figure.Figure at 0x154759fac50>"
      ]
     },
     "metadata": {},
     "output_type": "display_data"
    }
   ],
   "source": [
    "fig,ax=plt.subplots(1,2,figsize=(20,5))\n",
    "ax[0].hist(data[\"High Blood Pressure\"]);\n",
    "ax[0].set_title(\"Histogram plot of High Blood Pressure\")\n",
    "ax[0].set_xlabel(\"High Blood Preesure\")\n",
    "ax[0].set_ylabel(\"Count\")\n",
    "ax[1].set_ylabel(\"High Blood Pressure\")\n",
    "ax[1].set_title(\"Boxplot of High Blood Pressure\")\n",
    "ax[1].boxplot(data[\"High Blood Pressure\"]);\n",
    "print(\"We can clearly see that our High Blood Pressure data contains outlier because our data is very highly skewed\")"
   ]
  },
  {
   "cell_type": "markdown",
   "metadata": {
    "colab_type": "text",
    "id": "jEmQalzp3ZaC"
   },
   "source": [
    "**Again, we will trim the values using the limits used in the medical domain for High Blood Pressure.**"
   ]
  },
  {
   "cell_type": "code",
   "execution_count": 17,
   "metadata": {
    "colab": {},
    "colab_type": "code",
    "id": "8OYP1xrR0YTQ",
    "scrolled": true
   },
   "outputs": [],
   "source": [
    "data[\"High Blood Pressure\"]=data[\"High Blood Pressure\"].clip(lower=60)\n",
    "data[\"High Blood Pressure\"]=data[\"High Blood Pressure\"].clip(upper=250)\n",
    "test[\"High Blood Pressure\"]=test[\"High Blood Pressure\"].clip(lower=60)\n",
    "test[\"High Blood Pressure\"]=test[\"High Blood Pressure\"].clip(upper=250)"
   ]
  },
  {
   "cell_type": "markdown",
   "metadata": {
    "colab_type": "text",
    "id": "jzQdKaD83ZaF"
   },
   "source": [
    "**Next, we check if there are any error in the values of other columns.**"
   ]
  },
  {
   "cell_type": "code",
   "execution_count": 18,
   "metadata": {
    "colab": {
     "base_uri": "https://localhost:8080/",
     "height": 134
    },
    "colab_type": "code",
    "id": "_TMvh4HY0YTV",
    "outputId": "fbd1cb12-30e6-44e3-f9c5-ca7694de7250"
   },
   "outputs": [
    {
     "name": "stdout",
     "output_type": "stream",
     "text": [
      "['female' 'male']\n",
      "['normal' 'high' 'too high']\n",
      "['normal' 'high' 'too high']\n",
      "[0 1]\n",
      "[0 1]\n",
      "[1 0]\n",
      "[0 1]\n"
     ]
    }
   ],
   "source": [
    "for i in ['Gender','Cholesterol','Glucose', 'Smoke', 'Alcohol','Exercise', 'Disease']:\n",
    "    print(data[i].unique())"
   ]
  },
  {
   "cell_type": "markdown",
   "metadata": {
    "colab_type": "text",
    "id": "CVFaCACH3ZaI"
   },
   "source": [
    "**By itself, the distribution of age does not tell us much other than that there are no outliers as all the ages are reasonable. To visualize the effect of the age on the target, we will next make a kernel density estimation plot (KDE) colored by the value of the target. A kernel density estimate plot shows the distribution of a single variable and can be thought of as a smoothed histogram (it is created by computing a kernel, usually a Gaussian, at each data point and then averaging all the individual kernels to develop a single smooth curve). We will use the seaborn kdeplot for this graph.**"
   ]
  },
  {
   "cell_type": "code",
   "execution_count": 19,
   "metadata": {
    "colab": {
     "base_uri": "https://localhost:8080/",
     "height": 350
    },
    "colab_type": "code",
    "id": "bfQtgUlA0YTe",
    "outputId": "60a53826-cd5d-4463-9fe5-6cbc38ab1b23"
   },
   "outputs": [
    {
     "data": {
      "image/png": "[encoded data removed]",
      "text/plain": [
       "<matplotlib.figure.Figure at 0x15475a18ef0>"
      ]
     },
     "metadata": {},
     "output_type": "display_data"
    }
   ],
   "source": [
    "fig,ax=plt.subplots(1,figsize=(8,5))\n",
    "ax.set_title(\"Distribution plot of Age\")\n",
    "ax.set_ylabel(\"Density\")\n",
    "sns.distplot(data.Age[data.Disease==1],hist=False,label=\"Disease=1\",ax=ax)\n",
    "sns.distplot(data.Age[data.Disease==0],hist=False,label=\"Disease=0\",ax=ax);"
   ]
  },
  {
   "cell_type": "markdown",
   "metadata": {
    "colab_type": "text",
    "id": "Yd0Ppl3w3ZaM"
   },
   "source": [
    "**We see that the Disease=1 is slightly skewed to the right so we can expect the age to be helpful in predicting if a person has a disease or not.**"
   ]
  },
  {
   "cell_type": "markdown",
   "metadata": {
    "colab_type": "text",
    "id": "1Up_07vX3ZaM"
   },
   "source": [
    "**We will divide the age groups to form bins to see that if it can help us to predict the outcome.**"
   ]
  },
  {
   "cell_type": "code",
   "execution_count": 20,
   "metadata": {
    "colab": {},
    "colab_type": "code",
    "id": "yTZ1HfMt0YTg"
   },
   "outputs": [],
   "source": [
    "data[\"Age_binned\"]=pd.cut(data.Age,np.linspace(25,65,9),labels=np.arange(8))\n",
    "test[\"Age_binned\"]=pd.cut(test.Age,np.linspace(25,65,9),labels=np.arange(8))"
   ]
  },
  {
   "cell_type": "code",
   "execution_count": 21,
   "metadata": {
    "colab": {
     "base_uri": "https://localhost:8080/",
     "height": 352
    },
    "colab_type": "code",
    "id": "1roFyGUa0YTj",
    "outputId": "ab9f2dc0-db42-4dee-9e3f-e85bd81446b3"
   },
   "outputs": [
    {
     "name": "stdout",
     "output_type": "stream",
     "text": [
      "Mean of the people having the disease by age group:\n"
     ]
    },
    {
     "data": {
      "image/png": "[encoded data removed]",
      "text/plain": [
       "<matplotlib.figure.Figure at 0x15475c5fa58>"
      ]
     },
     "metadata": {},
     "output_type": "display_data"
    }
   ],
   "source": [
    "plt.figure(figsize=(10,5))\n",
    "sns.barplot(data.groupby(\"Age_binned\")[\"Disease\"].mean().index,data.groupby(\"Age_binned\")[\"Disease\"].mean());\n",
    "print(\"Mean of the people having the disease by age group:\")"
   ]
  },
  {
   "cell_type": "markdown",
   "metadata": {
    "colab_type": "text",
    "id": "Rfenz4nz3ZaR"
   },
   "source": [
    "**Clearly, we can see that the binning can help us in the prediction of the disease outcome as the age increases the probabilty of getting the disease.**"
   ]
  },
  {
   "cell_type": "code",
   "execution_count": 22,
   "metadata": {
    "colab": {
     "base_uri": "https://localhost:8080/",
     "height": 330
    },
    "colab_type": "code",
    "id": "UWqc29Kf0YTq",
    "outputId": "1ad13fa2-8872-4e67-e3c6-205b011b059c"
   },
   "outputs": [
    {
     "data": {
      "image/png": "[encoded data removed]",
      "text/plain": [
       "<matplotlib.figure.Figure at 0x15475ce2e10>"
      ]
     },
     "metadata": {},
     "output_type": "display_data"
    }
   ],
   "source": [
    "fig,ax=plt.subplots(1,2,figsize=(20,5))\n",
    "sns.countplot(data=data,x=\"Glucose\",hue=\"Disease\",ax=ax[0]);\n",
    "ax[0].set_title(\"Count plot of Glucose categorized by disease and level\")\n",
    "sns.countplot(data=data,x=\"Cholesterol\",hue=\"Disease\",ax=ax[1])\n",
    "ax[1].set_title(\"Count plot of Cholestrol categorized by disease and level\");"
   ]
  },
  {
   "cell_type": "code",
   "execution_count": 23,
   "metadata": {
    "colab": {},
    "colab_type": "code",
    "id": "VFkB6peC3ZaU"
   },
   "outputs": [],
   "source": [
    "# Function to plot ROC_AUC_curve\n",
    "\n",
    "def ROC_AUC_curve(model,model_name=\"Model\"):\n",
    "    # generate a no skill prediction (majority class)\n",
    "    ns_probs = [0 for _ in range(len(y_test))]\n",
    "\n",
    "    # predict probabilities\n",
    "    lr_probs = model.predict_proba(X_test)\n",
    "    # keep probabilities for the positive outcome only\n",
    "    lr_probs = lr_probs[:, 1]\n",
    "    # calculate scores\n",
    "    ns_auc = roc_auc_score(y_test, ns_probs)\n",
    "    lr_auc = roc_auc_score(y_test, lr_probs)\n",
    "    # summarize scores\n",
    "    print('No Skill: ROC AUC=%.3f' % (ns_auc))\n",
    "    print('Decision Tree: ROC AUC=%.3f' % (lr_auc))\n",
    "    # calculate roc curves\n",
    "    ns_fpr, ns_tpr, _ = roc_curve(y_test, ns_probs)\n",
    "    lr_fpr, lr_tpr, _ = roc_curve(y_test, lr_probs)\n",
    "    # plot the roc curve for the model\n",
    "    plt.figure(figsize=(8,4))\n",
    "    plt.plot(ns_fpr, ns_tpr, linestyle='--', label='No Skill')\n",
    "    plt.plot(lr_fpr, lr_tpr, marker='.', label=model_name)\n",
    "    # axis labels\n",
    "    plt.xlabel('False Positive Rate')\n",
    "    plt.ylabel('True Positive Rate')\n",
    "    # show the legend\n",
    "    plt.legend()\n",
    "    # show the plot\n",
    "    plt.show()"
   ]
  },
  {
   "cell_type": "code",
   "execution_count": 24,
   "metadata": {},
   "outputs": [],
   "source": [
    "def ROC_AUC_curve_upgraded(model,model_name=\"Model\"):\n",
    "    # generate a no skill prediction (majority class)\n",
    "    ns_probs = [0 for _ in range(len(y_test))]\n",
    "\n",
    "    # predict probabilities\n",
    "    lr_probs = model.predict_proba(X_test)\n",
    "    # keep probabilities for the positive outcome only\n",
    "    lr_probs = lr_probs\n",
    "    # calculate scores\n",
    "    ns_auc = roc_auc_score(y_test, ns_probs)\n",
    "    lr_auc = roc_auc_score(y_test, lr_probs)\n",
    "    # summarize scores\n",
    "    print('No Skill: ROC AUC=%.3f' % (ns_auc))\n",
    "    print('Decision Tree: ROC AUC=%.3f' % (lr_auc))\n",
    "    # calculate roc curves\n",
    "    ns_fpr, ns_tpr, _ = roc_curve(y_test, ns_probs)\n",
    "    lr_fpr, lr_tpr, _ = roc_curve(y_test, lr_probs)\n",
    "    # plot the roc curve for the model\n",
    "    plt.figure(figsize=(8,4))\n",
    "    plt.plot(ns_fpr, ns_tpr, linestyle='--', label='No Skill')\n",
    "    plt.plot(lr_fpr, lr_tpr, marker='.', label=model_name)\n",
    "    # axis labels\n",
    "    plt.xlabel('False Positive Rate')\n",
    "    plt.ylabel('True Positive Rate')\n",
    "    # show the legend\n",
    "    plt.legend()\n",
    "    # show the plot\n",
    "    plt.show()"
   ]
  },
  {
   "cell_type": "markdown",
   "metadata": {
    "colab_type": "text",
    "id": "KvC5pcm33ZaY"
   },
   "source": [
    "## Data Transformation"
   ]
  },
  {
   "cell_type": "markdown",
   "metadata": {
    "colab_type": "text",
    "id": "xyc5iPKa3ZaY"
   },
   "source": [
    "**Converting the categorical columns into binary data.**"
   ]
  },
  {
   "cell_type": "code",
   "execution_count": 25,
   "metadata": {
    "colab": {},
    "colab_type": "code",
    "id": "MbYkeKI_0YTz",
    "scrolled": true
   },
   "outputs": [],
   "source": [
    "data.Gender.replace({\"female\":0,\"male\":1},inplace=True)\n",
    "test.Gender.replace({\"female\":0,\"male\":1},inplace=True)"
   ]
  },
  {
   "cell_type": "code",
   "execution_count": 26,
   "metadata": {
    "colab": {},
    "colab_type": "code",
    "id": "Nj10xKCl0YT2",
    "scrolled": true
   },
   "outputs": [],
   "source": [
    "# One-hot encoding the categorical column\n",
    "data=pd.get_dummies(data)\n",
    "test=pd.get_dummies(test)"
   ]
  },
  {
   "cell_type": "code",
   "execution_count": 27,
   "metadata": {
    "colab": {},
    "colab_type": "code",
    "id": "2jh-JJQh0YT6"
   },
   "outputs": [],
   "source": [
    "# Drop the columns because we drop one column when one hot encoding because n-1 contains the sufficient information so we can\n",
    "# drop the nth column\n",
    "data.drop([\"Age\",'Cholesterol_too high','Glucose_too high','Age_binned_7'],inplace=True,axis=1)\n",
    "test.drop([\"Age\",'Cholesterol_too high','Glucose_too high','Age_binned_7'],inplace=True,axis=1)"
   ]
  },
  {
   "cell_type": "markdown",
   "metadata": {
    "colab_type": "text",
    "id": "vfsdEDFi3Zag"
   },
   "source": [
    "**We split the data to get our train and test, which will help us to evaluate how well our model runs on unseen data.**"
   ]
  },
  {
   "cell_type": "code",
   "execution_count": 28,
   "metadata": {
    "colab": {},
    "colab_type": "code",
    "id": "CHJcY90p0YUA",
    "scrolled": true
   },
   "outputs": [],
   "source": [
    "X_train,X_test,y_train,y_test=train_test_split(data[data.columns[data.columns!=\"Disease\"]],data.Disease,random_state=42,test_size=.15)"
   ]
  },
  {
   "cell_type": "markdown",
   "metadata": {
    "colab_type": "text",
    "id": "uT8hvAak3Zai"
   },
   "source": [
    "**Next we scale our data so that we can make the data suitable for training on some models which require preprocessed data.**"
   ]
  },
  {
   "cell_type": "code",
   "execution_count": 29,
   "metadata": {
    "colab": {},
    "colab_type": "code",
    "id": "l6PrW4BN0YUC",
    "scrolled": true
   },
   "outputs": [],
   "source": [
    "scaler=StandardScaler()"
   ]
  },
  {
   "cell_type": "code",
   "execution_count": 30,
   "metadata": {
    "colab": {},
    "colab_type": "code",
    "id": "X0T6DyWP0YUF"
   },
   "outputs": [
    {
     "name": "stderr",
     "output_type": "stream",
     "text": [
      "D:\\Anaconda\\envs\\tensorflow\\lib\\site-packages\\sklearn\\preprocessing\\data.py:617: DataConversionWarning: Data with input dtype int64, float64 were all converted to float64 by StandardScaler.\n",
      "  return self.partial_fit(X, y)\n",
      "D:\\Anaconda\\envs\\tensorflow\\lib\\site-packages\\sklearn\\base.py:462: DataConversionWarning: Data with input dtype int64, float64 were all converted to float64 by StandardScaler.\n",
      "  return self.fit(X, **fit_params).transform(X)\n"
     ]
    }
   ],
   "source": [
    "X_train[['Height', 'Weight', 'Low Blood Pressure','High Blood Pressure',\"BMI\"]]=scaler.fit_transform(X_train[['Height', 'Weight', 'Low Blood Pressure','High Blood Pressure','BMI']])"
   ]
  },
  {
   "cell_type": "code",
   "execution_count": 31,
   "metadata": {
    "colab": {},
    "colab_type": "code",
    "id": "NWoU2gZG3Zan",
    "scrolled": true
   },
   "outputs": [
    {
     "name": "stderr",
     "output_type": "stream",
     "text": [
      "D:\\Anaconda\\envs\\tensorflow\\lib\\site-packages\\sklearn\\preprocessing\\data.py:617: DataConversionWarning: Data with input dtype int64, float64 were all converted to float64 by StandardScaler.\n",
      "  return self.partial_fit(X, y)\n",
      "D:\\Anaconda\\envs\\tensorflow\\lib\\site-packages\\sklearn\\base.py:462: DataConversionWarning: Data with input dtype int64, float64 were all converted to float64 by StandardScaler.\n",
      "  return self.fit(X, **fit_params).transform(X)\n"
     ]
    }
   ],
   "source": [
    "test[['Height', 'Weight', 'Low Blood Pressure','High Blood Pressure',\"BMI\"]]=scaler.fit_transform(test[['Height', 'Weight', 'Low Blood Pressure','High Blood Pressure','BMI']])"
   ]
  },
  {
   "cell_type": "code",
   "execution_count": 32,
   "metadata": {
    "colab": {},
    "colab_type": "code",
    "id": "x6ZOkU4Z0YUI",
    "scrolled": true
   },
   "outputs": [
    {
     "name": "stderr",
     "output_type": "stream",
     "text": [
      "D:\\Anaconda\\envs\\tensorflow\\lib\\site-packages\\ipykernel_launcher.py:1: DataConversionWarning: Data with input dtype int64, float64 were all converted to float64 by StandardScaler.\n",
      "  \"\"\"Entry point for launching an IPython kernel.\n"
     ]
    }
   ],
   "source": [
    "X_test[['Height', 'Weight', 'Low Blood Pressure','High Blood Pressure','BMI']]=scaler.transform(X_test[['Height', 'Weight', 'Low Blood Pressure','High Blood Pressure',\"BMI\"]])"
   ]
  },
  {
   "cell_type": "code",
   "execution_count": 33,
   "metadata": {
    "colab": {},
    "colab_type": "code",
    "id": "29dv4fsA3Zat"
   },
   "outputs": [],
   "source": [
    "final_prediction=pd.DataFrame()"
   ]
  },
  {
   "cell_type": "code",
   "execution_count": 34,
   "metadata": {
    "colab": {},
    "colab_type": "code",
    "id": "yc98lmpH3Zaw"
   },
   "outputs": [],
   "source": [
    "final_prediction[\"ID\"]=test.pop(\"ID\")"
   ]
  },
  {
   "cell_type": "markdown",
   "metadata": {
    "colab_type": "text",
    "id": "2NF2FYiV0YUK"
   },
   "source": [
    "## Model Building"
   ]
  },
  {
   "cell_type": "markdown",
   "metadata": {
    "colab_type": "text",
    "id": "HrARvBse3Zaz"
   },
   "source": [
    "**Metrics for tuning:** When predicting disease we use recall we want our model to predict the disease as much times from the actual number of cases of disease. The metrics for tuning here used is accuracy because the models were giving more stable results on test set when performing tuning using accuracy. Also, it is safe to use the accuracy as metrics because the classes are balanced and the recall score on test set are better when accuracy was used as tuning parameter rather than recall as the tuning metrics."
   ]
  },
  {
   "cell_type": "markdown",
   "metadata": {
    "colab_type": "text",
    "id": "OgynJFDq3Zaz"
   },
   "source": [
    "**Cross Validation:** 6 folds have been used for tuning the model to get a good generalized model and use as much as possible data for training the model. "
   ]
  },
  {
   "cell_type": "markdown",
   "metadata": {
    "colab_type": "text",
    "id": "WShdhjmR3Zaz"
   },
   "source": [
    "**Grid Search:** A simple grid search will try all combination for getting the hyperparameters which have the best average score on the all the testing folds."
   ]
  },
  {
   "cell_type": "markdown",
   "metadata": {},
   "source": [
    "**Epochs:** For each model, I have trained 50 epochs so that is able to reach the minimum of the loss function and output the best model."
   ]
  },
  {
   "cell_type": "markdown",
   "metadata": {},
   "source": [
    "**Model Checkpoint:** The model checkpoint makes sure that the model with the best validation accuracy is saved and used after the 50 epochs are completed."
   ]
  },
  {
   "cell_type": "markdown",
   "metadata": {
    "colab_type": "text",
    "id": "teUBMAVq8Ipu"
   },
   "source": [
    "### Logistic Regression"
   ]
  },
  {
   "cell_type": "markdown",
   "metadata": {},
   "source": [
    "Logistic Regression are used when the data is linearly separable. It divides the binary data by making a linear decision boundary. C and type of penalty are two hyperparameters that are used to train a Logistic Regression classifier.\n",
    "\n",
    "**Model Tuning:**\n",
    "\n",
    "**C:** It is the inverse of the lambda. Smaller value specify more regularization \n",
    "\n",
    "**Penalty:** The types of penalty that can be used are l1 and l2. The l1 penalty has the characteristics of eliminating features by making its co-efficient 0. The l2 penalty does not eliminate features but it penalizes the effect of less useful features and makes their co-efficient close to 0. "
   ]
  },
  {
   "cell_type": "code",
   "execution_count": 35,
   "metadata": {
    "colab": {},
    "colab_type": "code",
    "id": "eZfGTX9Y0YUO"
   },
   "outputs": [],
   "source": [
    "lr=LogisticRegression(random_state=42,solver=\"liblinear\")"
   ]
  },
  {
   "cell_type": "code",
   "execution_count": 36,
   "metadata": {
    "colab": {},
    "colab_type": "code",
    "id": "vJkggBxE0YUT"
   },
   "outputs": [],
   "source": [
    "param_grid_lr={\"C\":[.001,.005,.01,.1,.2,.4,.8,1,10],\"penalty\":[\"l1\",\"l2\"]}"
   ]
  },
  {
   "cell_type": "code",
   "execution_count": 37,
   "metadata": {
    "colab": {},
    "colab_type": "code",
    "id": "ttTbU6lW0YUW"
   },
   "outputs": [],
   "source": [
    "grid_search_lr=GridSearchCV(estimator=lr,param_grid=param_grid_lr,cv=6,scoring=\"accuracy\")"
   ]
  },
  {
   "cell_type": "code",
   "execution_count": 38,
   "metadata": {
    "colab": {},
    "colab_type": "code",
    "id": "TaTVNfYv3Za_"
   },
   "outputs": [],
   "source": [
    "import sklearn"
   ]
  },
  {
   "cell_type": "code",
   "execution_count": 39,
   "metadata": {
    "colab": {
     "base_uri": "https://localhost:8080/",
     "height": 252
    },
    "colab_type": "code",
    "id": "xhaU1WKC0YUZ",
    "outputId": "5315a25d-049f-4529-c75f-15ab489bd567",
    "scrolled": true
   },
   "outputs": [
    {
     "data": {
      "text/plain": [
       "GridSearchCV(cv=6, error_score='raise-deprecating',\n",
       "       estimator=LogisticRegression(C=1.0, class_weight=None, dual=False, fit_intercept=True,\n",
       "          intercept_scaling=1, max_iter=100, multi_class='warn',\n",
       "          n_jobs=None, penalty='l2', random_state=42, solver='liblinear',\n",
       "          tol=0.0001, verbose=0, warm_start=False),\n",
       "       fit_params=None, iid='warn', n_jobs=None,\n",
       "       param_grid={'C': [0.001, 0.005, 0.01, 0.1, 0.2, 0.4, 0.8, 1, 10], 'penalty': ['l1', 'l2']},\n",
       "       pre_dispatch='2*n_jobs', refit=True, return_train_score='warn',\n",
       "       scoring='accuracy', verbose=0)"
      ]
     },
     "execution_count": 39,
     "metadata": {},
     "output_type": "execute_result"
    }
   ],
   "source": [
    "grid_search_lr.fit(X_train,y_train)"
   ]
  },
  {
   "cell_type": "code",
   "execution_count": 40,
   "metadata": {
    "colab": {
     "base_uri": "https://localhost:8080/",
     "height": 34
    },
    "colab_type": "code",
    "id": "YWgW0wtk0YUj",
    "outputId": "5e4f891f-2964-48dd-b602-27a0d7218405"
   },
   "outputs": [
    {
     "name": "stdout",
     "output_type": "stream",
     "text": [
      "{'C': 0.1, 'penalty': 'l1'}\n"
     ]
    }
   ],
   "source": [
    "best_params_lr=grid_search_lr.best_params_\n",
    "print(best_params_lr)"
   ]
  },
  {
   "cell_type": "code",
   "execution_count": 41,
   "metadata": {
    "colab": {
     "base_uri": "https://localhost:8080/",
     "height": 34
    },
    "colab_type": "code",
    "id": "-ieSmWXU0YUn",
    "outputId": "c6e9c981-aba4-42ed-a03c-5666dbe4be06"
   },
   "outputs": [
    {
     "data": {
      "text/plain": [
       "0.7275127004681741"
      ]
     },
     "execution_count": 41,
     "metadata": {},
     "output_type": "execute_result"
    }
   ],
   "source": [
    "#printing the training accuracy\n",
    "accuracy_score(grid_search_lr.predict(X_train),y_train)"
   ]
  },
  {
   "cell_type": "code",
   "execution_count": 42,
   "metadata": {
    "colab": {
     "base_uri": "https://localhost:8080/",
     "height": 34
    },
    "colab_type": "code",
    "id": "_T7jWXNV0YUp",
    "outputId": "469e054f-2937-4bc4-d145-e148d600088b"
   },
   "outputs": [
    {
     "data": {
      "text/plain": [
       "0.7409341046987442"
      ]
     },
     "execution_count": 42,
     "metadata": {},
     "output_type": "execute_result"
    }
   ],
   "source": [
    "#printing the testing accuracy\n",
    "accuracy_score(grid_search_lr.predict(X_test),y_test)"
   ]
  },
  {
   "cell_type": "code",
   "execution_count": 43,
   "metadata": {
    "colab": {
     "base_uri": "https://localhost:8080/",
     "height": 168
    },
    "colab_type": "code",
    "id": "pubv1YLD0YUs",
    "outputId": "adff0db4-196e-41a6-b55a-a2a6b1e86c19"
   },
   "outputs": [
    {
     "name": "stdout",
     "output_type": "stream",
     "text": [
      "              precision    recall  f1-score   support\n",
      "\n",
      "           0       0.72      0.77      0.75      3501\n",
      "           1       0.76      0.71      0.74      3586\n",
      "\n",
      "   micro avg       0.74      0.74      0.74      7087\n",
      "   macro avg       0.74      0.74      0.74      7087\n",
      "weighted avg       0.74      0.74      0.74      7087\n",
      "\n"
     ]
    }
   ],
   "source": [
    "print(classification_report(y_true=y_test,y_pred=grid_search_lr.predict(X_test)))"
   ]
  },
  {
   "cell_type": "code",
   "execution_count": 44,
   "metadata": {
    "colab": {
     "base_uri": "https://localhost:8080/",
     "height": 313
    },
    "colab_type": "code",
    "id": "WWwCW7MhC8gt",
    "outputId": "e07dfc19-5b9a-410a-f7e2-1dc944be18fc"
   },
   "outputs": [
    {
     "name": "stdout",
     "output_type": "stream",
     "text": [
      "No Skill: ROC AUC=0.500\n",
      "Decision Tree: ROC AUC=0.803\n"
     ]
    },
    {
     "data": {
      "image/png": "[encoded data removed]",
      "text/plain": [
       "<matplotlib.figure.Figure at 0x15475cb6f60>"
      ]
     },
     "metadata": {},
     "output_type": "display_data"
    }
   ],
   "source": [
    "ROC_AUC_curve(model=grid_search_lr,model_name=\"Logistic Regression\")"
   ]
  },
  {
   "cell_type": "code",
   "execution_count": 45,
   "metadata": {},
   "outputs": [],
   "source": [
    "lr_coefficients=OrderedDict(sorted(zip(X_train.columns,grid_search_lr.best_estimator_.coef_[0]),reverse=True,key=lambda x:x[1]))"
   ]
  },
  {
   "cell_type": "code",
   "execution_count": 46,
   "metadata": {},
   "outputs": [
    {
     "data": {
      "text/plain": [
       "High Blood Pressure    0.893014\n",
       "Glucose_normal         0.261710\n",
       "Glucose_high           0.241146\n",
       "Low Blood Pressure     0.186552\n",
       "Weight                 0.081726\n",
       "BMI                    0.063021\n",
       "Height                 0.000000\n",
       "Age_binned_0           0.000000\n",
       "Age_binned_1           0.000000\n",
       "Gender                -0.033748\n",
       "Smoke                 -0.143463\n",
       "Exercise              -0.176750\n",
       "Alcohol               -0.185109\n",
       "Age_binned_6          -0.297212\n",
       "Age_binned_5          -0.515505\n",
       "Cholesterol_high      -0.608030\n",
       "Age_binned_4          -0.669121\n",
       "Age_binned_3          -0.906508\n",
       "Cholesterol_normal    -1.001840\n",
       "Age_binned_2          -1.374068\n",
       "dtype: float64"
      ]
     },
     "execution_count": 46,
     "metadata": {},
     "output_type": "execute_result"
    }
   ],
   "source": [
    "pd.Series(lr_coefficients)"
   ]
  },
  {
   "cell_type": "markdown",
   "metadata": {},
   "source": [
    "**Here, we can see that Height, Age_binned_0, Age_binned_1 have been eliminated as our grid search uses the l1 penalty. The High Blood Pressure feature increases the odds of having the disease most and the Age binned 2 least affects the odds.**"
   ]
  },
  {
   "cell_type": "code",
   "execution_count": 47,
   "metadata": {
    "colab": {},
    "colab_type": "code",
    "id": "8P0FqTZ83ZbO"
   },
   "outputs": [],
   "source": [
    "test_predict_lr=grid_search_lr.predict(test)"
   ]
  },
  {
   "cell_type": "markdown",
   "metadata": {
    "colab_type": "text",
    "id": "gHYBo54r0YUw"
   },
   "source": [
    "### Decision Tree"
   ]
  },
  {
   "cell_type": "markdown",
   "metadata": {},
   "source": [
    "A decision tree is a tree based model which makes prediction by learning simple decision rules using training data. A decision tress uses different methods like gini index or entropy to create a tree. Decision tree has one very important setback that it can easily overfit on train data. \n",
    "\n",
    "**Model Tuning:** \n",
    "\n",
    " <br>**max_features:** The max_features is the number of features that will be used for making a single tree. For eg using \"sqrt\", the tree uses the square root of the number of total features in the data. Using auto is the same as making use of sqrt. The other values can be specifying the int(number of features to be used less than the total features), log, and proportion of the features to be used.\n",
    "<br>**min_samples_leaf:** The minimum number of samples that should be there in leaf node. If the number is less then the leaf node is pruned.\n",
    "<br>**min_samples_split:** The number of samples that should be present in the node for it to be split further.\n",
    "<br>**maxDepth:** The maxdepth represents the depth of the tree. The deeper the tree, the more splits it has and it captures more information about the data. In order to avoid overfitting the data, we use the maxDepth to specify the depth till which the tree can split."
   ]
  },
  {
   "cell_type": "code",
   "execution_count": 48,
   "metadata": {
    "colab": {},
    "colab_type": "code",
    "id": "aS-C6GrS0YUz"
   },
   "outputs": [],
   "source": [
    "dt=DecisionTreeClassifier(random_state=42)"
   ]
  },
  {
   "cell_type": "code",
   "execution_count": 49,
   "metadata": {
    "colab": {},
    "colab_type": "code",
    "id": "zd6PrGQA0YU2"
   },
   "outputs": [],
   "source": [
    "param_grid_dtree={'max_depth': [1,25,10, 20, 100],\n",
    "            'max_features': ['auto','log2'],\n",
    "            'min_samples_leaf': [10,30,50,100],\n",
    "             'min_samples_split': [500,800,1000]}"
   ]
  },
  {
   "cell_type": "code",
   "execution_count": 50,
   "metadata": {
    "colab": {},
    "colab_type": "code",
    "id": "xuq1TJ9Z0YU5"
   },
   "outputs": [],
   "source": [
    "grid_search_dt=GridSearchCV(estimator=dt,param_grid=param_grid_dtree,cv=6,scoring=\"accuracy\",verbose=1,n_jobs=-1)"
   ]
  },
  {
   "cell_type": "code",
   "execution_count": 51,
   "metadata": {
    "colab": {
     "base_uri": "https://localhost:8080/",
     "height": 420
    },
    "colab_type": "code",
    "id": "Ts0S02me0YU6",
    "outputId": "41ddaf7e-82b0-44bf-c77a-0e8c739c366d"
   },
   "outputs": [
    {
     "name": "stdout",
     "output_type": "stream",
     "text": [
      "Fitting 6 folds for each of 120 candidates, totalling 720 fits\n"
     ]
    },
    {
     "name": "stderr",
     "output_type": "stream",
     "text": [
      "[Parallel(n_jobs=-1)]: Using backend LokyBackend with 4 concurrent workers.\n",
      "[Parallel(n_jobs=-1)]: Done  62 tasks      | elapsed:    2.8s\n",
      "[Parallel(n_jobs=-1)]: Done 662 tasks      | elapsed:   12.3s\n",
      "[Parallel(n_jobs=-1)]: Done 720 out of 720 | elapsed:   13.3s finished\n"
     ]
    },
    {
     "data": {
      "text/plain": [
       "GridSearchCV(cv=6, error_score='raise-deprecating',\n",
       "       estimator=DecisionTreeClassifier(class_weight=None, criterion='gini', max_depth=None,\n",
       "            max_features=None, max_leaf_nodes=None,\n",
       "            min_impurity_decrease=0.0, min_impurity_split=None,\n",
       "            min_samples_leaf=1, min_samples_split=2,\n",
       "            min_weight_fraction_leaf=0.0, presort=False, random_state=42,\n",
       "            splitter='best'),\n",
       "       fit_params=None, iid='warn', n_jobs=-1,\n",
       "       param_grid={'min_samples_split': [500, 800, 1000], 'max_depth': [1, 25, 10, 20, 100], 'min_samples_leaf': [10, 30, 50, 100], 'max_features': ['auto', 'log2']},\n",
       "       pre_dispatch='2*n_jobs', refit=True, return_train_score='warn',\n",
       "       scoring='accuracy', verbose=1)"
      ]
     },
     "execution_count": 51,
     "metadata": {},
     "output_type": "execute_result"
    }
   ],
   "source": [
    "grid_search_dt.fit(X_train,y_train)"
   ]
  },
  {
   "cell_type": "code",
   "execution_count": 52,
   "metadata": {
    "colab": {
     "base_uri": "https://localhost:8080/",
     "height": 34
    },
    "colab_type": "code",
    "id": "9SN-yhG30YU9",
    "outputId": "2ab9deb4-ec29-454a-d552-a9abcaa7aebb"
   },
   "outputs": [
    {
     "name": "stdout",
     "output_type": "stream",
     "text": [
      "{'min_samples_split': 500, 'max_depth': 20, 'min_samples_leaf': 10, 'max_features': 'auto'}\n"
     ]
    }
   ],
   "source": [
    "best_params_dt=grid_search_dt.best_params_\n",
    "print(best_params_dt)"
   ]
  },
  {
   "cell_type": "code",
   "execution_count": 53,
   "metadata": {
    "colab": {
     "base_uri": "https://localhost:8080/",
     "height": 34
    },
    "colab_type": "code",
    "id": "B4Lko0xs0YVB",
    "outputId": "290d1209-d312-4f6b-ff9e-98556379037c"
   },
   "outputs": [
    {
     "data": {
      "text/plain": [
       "0.7255702759238968"
      ]
     },
     "execution_count": 53,
     "metadata": {},
     "output_type": "execute_result"
    }
   ],
   "source": [
    "#printing the training accuracy\n",
    "accuracy_score(grid_search_dt.predict(X_train),y_train)"
   ]
  },
  {
   "cell_type": "code",
   "execution_count": 54,
   "metadata": {
    "colab": {
     "base_uri": "https://localhost:8080/",
     "height": 34
    },
    "colab_type": "code",
    "id": "P-S6TeRT0YVD",
    "outputId": "7b2432e6-b7bc-4bbc-d0fc-ca4aa191937a"
   },
   "outputs": [
    {
     "data": {
      "text/plain": [
       "0.7340200366868915"
      ]
     },
     "execution_count": 54,
     "metadata": {},
     "output_type": "execute_result"
    }
   ],
   "source": [
    "#printing the testing accuracy\n",
    "accuracy_score(y_test,grid_search_dt.predict(X_test))"
   ]
  },
  {
   "cell_type": "code",
   "execution_count": 55,
   "metadata": {
    "colab": {
     "base_uri": "https://localhost:8080/",
     "height": 168
    },
    "colab_type": "code",
    "id": "XKpjJNA20YV2",
    "outputId": "19b36f2d-aac6-41cb-bdb4-2b16411a6906"
   },
   "outputs": [
    {
     "name": "stdout",
     "output_type": "stream",
     "text": [
      "              precision    recall  f1-score   support\n",
      "\n",
      "           0       0.71      0.78      0.74      3501\n",
      "           1       0.76      0.69      0.72      3586\n",
      "\n",
      "   micro avg       0.73      0.73      0.73      7087\n",
      "   macro avg       0.74      0.73      0.73      7087\n",
      "weighted avg       0.74      0.73      0.73      7087\n",
      "\n"
     ]
    }
   ],
   "source": [
    "print(classification_report(y_test,grid_search_dt.predict(X_test)))"
   ]
  },
  {
   "cell_type": "code",
   "execution_count": 56,
   "metadata": {
    "colab": {
     "base_uri": "https://localhost:8080/",
     "height": 313
    },
    "colab_type": "code",
    "id": "ZzHRQR2ECzZN",
    "outputId": "6e80a38c-ca15-4df9-e9a9-e38d2b167c9c"
   },
   "outputs": [
    {
     "name": "stdout",
     "output_type": "stream",
     "text": [
      "No Skill: ROC AUC=0.500\n",
      "Decision Tree: ROC AUC=0.794\n"
     ]
    },
    {
     "data": {
      "image/png": "[encoded data removed]",
      "text/plain": [
       "<matplotlib.figure.Figure at 0x15475cc4c50>"
      ]
     },
     "metadata": {},
     "output_type": "display_data"
    }
   ],
   "source": [
    "ROC_AUC_curve(model=grid_search_dt,model_name=\"Decision Tree\")"
   ]
  },
  {
   "cell_type": "code",
   "execution_count": 57,
   "metadata": {
    "scrolled": true
   },
   "outputs": [
    {
     "data": {
      "image/png": "[encoded data removed]",
      "text/plain": [
       "<matplotlib.figure.Figure at 0x15475c70908>"
      ]
     },
     "metadata": {},
     "output_type": "display_data"
    }
   ],
   "source": [
    "plt.figure(figsize=(20,5))\n",
    "feature_importance_dt=OrderedDict(sorted(zip(X_train.columns,grid_search_dt.best_estimator_.feature_importances_),reverse=True,key=lambda x:x[1]))\n",
    "sns.barplot(list(feature_importance_dt.keys())[:10],list(feature_importance_dt.values())[:10]);"
   ]
  },
  {
   "cell_type": "code",
   "execution_count": 58,
   "metadata": {
    "colab": {},
    "colab_type": "code",
    "id": "sOgA40yN3Zbq"
   },
   "outputs": [],
   "source": [
    "test_predict_dt=grid_search_dt.predict(test)"
   ]
  },
  {
   "cell_type": "markdown",
   "metadata": {
    "colab_type": "text",
    "id": "Dx7ho7pk0YWN"
   },
   "source": [
    "### ANN 0"
   ]
  },
  {
   "cell_type": "markdown",
   "metadata": {},
   "source": [
    "A neural network with 0 hidden layer and the ouput layer with a sigmoid function is similar to logistic regression function.\n",
    "The number of nodes in a hidden layer were chosen by taking a number which is the mean of the number of perceptrons in the layers on the left and right side. Apart from that, manual tuning of the hyperparameter was also tried and we used the results of combination which were the best.  \n",
    "\n",
    "**Model Tuning:** \n",
    "\n",
    " <br>**loss function:** The loss function we have used here is binary cross entropy. In binary cross entropy, if the model makes wrongly predicts the class with high confidence then the error will be very high. It is a popular function that is used for binary classification problems.\n",
    "<br>**batch size:** The batch size that is fed to the model for a single update to the weights. If the batch size is 1 then the loss function will move towards the minima in not a very smooth manner.\n",
    "<br>**optimizer:** The optimizer that we have used is stochastic gradient descent which is an iterative method for optimizing the objective function."
   ]
  },
  {
   "cell_type": "code",
   "execution_count": 59,
   "metadata": {},
   "outputs": [],
   "source": [
    "mc_0 = ModelCheckpoint('best_model_ann0.h5', monitor='val_acc', mode='max', verbose=0, save_best_only=True)"
   ]
  },
  {
   "cell_type": "code",
   "execution_count": 60,
   "metadata": {},
   "outputs": [],
   "source": [
    "ann0 = Sequential()\n",
    "ann0.add(Dense(1, activation='sigmoid', input_shape=(20,)))"
   ]
  },
  {
   "cell_type": "code",
   "execution_count": 61,
   "metadata": {},
   "outputs": [],
   "source": [
    "ann0.compile(loss='binary_crossentropy', optimizer='sgd', metrics=['accuracy'])"
   ]
  },
  {
   "cell_type": "code",
   "execution_count": 62,
   "metadata": {
    "scrolled": true
   },
   "outputs": [
    {
     "data": {
      "text/plain": [
       "<keras.callbacks.History at 0x15475b011d0>"
      ]
     },
     "execution_count": 62,
     "metadata": {},
     "output_type": "execute_result"
    }
   ],
   "source": [
    "ann0.fit(X_train, y_train, epochs=50, batch_size=16, verbose=0,validation_data=(X_test,y_test),callbacks=[mc_0])"
   ]
  },
  {
   "cell_type": "code",
   "execution_count": 63,
   "metadata": {},
   "outputs": [],
   "source": [
    "# loads the weights of the best model\n",
    "ann0.load_weights(\"best_model_ann0.h5\")"
   ]
  },
  {
   "cell_type": "code",
   "execution_count": 64,
   "metadata": {},
   "outputs": [
    {
     "data": {
      "text/plain": [
       "0.725894013347943"
      ]
     },
     "execution_count": 64,
     "metadata": {},
     "output_type": "execute_result"
    }
   ],
   "source": [
    "#printing the training accuracy\n",
    "accuracy_score((ann0.predict(X_train)>0.5).astype(int),y_train)"
   ]
  },
  {
   "cell_type": "code",
   "execution_count": 65,
   "metadata": {
    "scrolled": true
   },
   "outputs": [
    {
     "data": {
      "text/plain": [
       "0.7431917595597572"
      ]
     },
     "execution_count": 65,
     "metadata": {},
     "output_type": "execute_result"
    }
   ],
   "source": [
    "#printing the testing accuracy\n",
    "accuracy_score(y_test,(ann0.predict(X_test)>0.5).astype(int))"
   ]
  },
  {
   "cell_type": "code",
   "execution_count": 66,
   "metadata": {
    "colab": {
     "base_uri": "https://localhost:8080/",
     "height": 168
    },
    "colab_type": "code",
    "id": "GBCyRphqa-CX",
    "outputId": "91545d98-ef3a-4ee8-8052-1dcec704328b",
    "scrolled": true
   },
   "outputs": [
    {
     "name": "stdout",
     "output_type": "stream",
     "text": [
      "              precision    recall  f1-score   support\n",
      "\n",
      "           0       0.73      0.75      0.74      3501\n",
      "           1       0.75      0.73      0.74      3586\n",
      "\n",
      "   micro avg       0.74      0.74      0.74      7087\n",
      "   macro avg       0.74      0.74      0.74      7087\n",
      "weighted avg       0.74      0.74      0.74      7087\n",
      "\n"
     ]
    }
   ],
   "source": [
    "print(classification_report(y_true=y_test,y_pred=(ann0.predict(X_test)>0.5).astype(int)))"
   ]
  },
  {
   "cell_type": "code",
   "execution_count": 67,
   "metadata": {},
   "outputs": [
    {
     "name": "stdout",
     "output_type": "stream",
     "text": [
      "No Skill: ROC AUC=0.500\n",
      "Decision Tree: ROC AUC=0.804\n"
     ]
    },
    {
     "data": {
      "image/png": "[encoded data removed]",
      "text/plain": [
       "<matplotlib.figure.Figure at 0x15475d35978>"
      ]
     },
     "metadata": {},
     "output_type": "display_data"
    }
   ],
   "source": [
    "ROC_AUC_curve_upgraded(ann0,model_name=\"ANN 0\")"
   ]
  },
  {
   "cell_type": "code",
   "execution_count": 68,
   "metadata": {
    "colab": {},
    "colab_type": "code",
    "id": "uu3Icw_r3Zcd"
   },
   "outputs": [],
   "source": [
    "# Changing the threshold to get a better recall\n",
    "test_predict_ann0=(ann0.predict_proba(test)>0.5).astype(int)"
   ]
  },
  {
   "cell_type": "markdown",
   "metadata": {
    "colab_type": "text",
    "id": "nM7YESkLy8lT"
   },
   "source": [
    "### ANN 1"
   ]
  },
  {
   "cell_type": "markdown",
   "metadata": {},
   "source": [
    "A neural network with 1 hidden layer and the ouput layer is a sigmoid function.\n",
    "\n",
    "**Model Tuning:** \n",
    "\n",
    "<br>**loss function:** The loss function we have used here is binary cross entropy. In binary cross entropy, if the model makes wrongly predicts the class with high confidence then the error will be very high. It is a popular function that is used for binary classification problems.\n",
    "<br>**batch size:** The batch size that is fed to the model for a single update to the weights. If the batch size is 1 then the loss function will move towards the minima in not a very smooth manner.\n",
    "<br>**activation:** The relu activation function is good choice as it is positive for positive values and 0 for negative values. It doesn't have the vanishing gradient problem. \n",
    "<br>**optimizer:** The optimizer that we have used is stochastic gradient descent which is an iterative method for optimizing the objective function.\n",
    "<br>**hidden layer:** The hidden layer contains 11 nodes of perceptrons."
   ]
  },
  {
   "cell_type": "code",
   "execution_count": 69,
   "metadata": {},
   "outputs": [],
   "source": [
    "mc_1 = ModelCheckpoint('best_model_ann1.h5', monitor='val_acc', mode='max', verbose=0, save_best_only=True)"
   ]
  },
  {
   "cell_type": "code",
   "execution_count": 70,
   "metadata": {
    "colab": {},
    "colab_type": "code",
    "id": "5ZxcCTSWyLqr"
   },
   "outputs": [],
   "source": [
    "ann1 = Sequential()\n",
    "ann1.add(Dense(11, activation='relu', input_shape=(20,)))\n",
    "ann1.add(Dense(1, activation='sigmoid', input_shape=(11,)))"
   ]
  },
  {
   "cell_type": "code",
   "execution_count": 71,
   "metadata": {
    "colab": {},
    "colab_type": "code",
    "id": "MXUa55CjzZOC"
   },
   "outputs": [],
   "source": [
    "ann1.compile(loss='binary_crossentropy', optimizer='sgd', metrics=['accuracy'])"
   ]
  },
  {
   "cell_type": "code",
   "execution_count": 72,
   "metadata": {
    "colab": {},
    "colab_type": "code",
    "id": "9uOYtnem0g5n"
   },
   "outputs": [
    {
     "data": {
      "text/plain": [
       "<keras.callbacks.History at 0x15475fe3470>"
      ]
     },
     "execution_count": 72,
     "metadata": {},
     "output_type": "execute_result"
    }
   ],
   "source": [
    "ann1.fit(X_train, y_train, epochs=50, batch_size=16, verbose=0,validation_data=(X_test,y_test),callbacks=[mc_1])"
   ]
  },
  {
   "cell_type": "code",
   "execution_count": 73,
   "metadata": {},
   "outputs": [],
   "source": [
    "# loads the weights of the best model\n",
    "ann1.load_weights(\"best_model_ann1.h5\")"
   ]
  },
  {
   "cell_type": "code",
   "execution_count": 74,
   "metadata": {},
   "outputs": [
    {
     "data": {
      "text/plain": [
       "0.7327174021316865"
      ]
     },
     "execution_count": 74,
     "metadata": {},
     "output_type": "execute_result"
    }
   ],
   "source": [
    "#printing the training accuracy\n",
    "accuracy_score((ann1.predict(X_train)>0.5).astype(int),y_train)"
   ]
  },
  {
   "cell_type": "code",
   "execution_count": 75,
   "metadata": {},
   "outputs": [
    {
     "data": {
      "text/plain": [
       "0.7464371384224636"
      ]
     },
     "execution_count": 75,
     "metadata": {},
     "output_type": "execute_result"
    }
   ],
   "source": [
    "#printing the testing accuracy\n",
    "accuracy_score(y_test,(ann1.predict(X_test)>0.5).astype(int))"
   ]
  },
  {
   "cell_type": "code",
   "execution_count": 76,
   "metadata": {},
   "outputs": [
    {
     "name": "stdout",
     "output_type": "stream",
     "text": [
      "              precision    recall  f1-score   support\n",
      "\n",
      "           0       0.74      0.75      0.75      3501\n",
      "           1       0.75      0.74      0.75      3586\n",
      "\n",
      "   micro avg       0.75      0.75      0.75      7087\n",
      "   macro avg       0.75      0.75      0.75      7087\n",
      "weighted avg       0.75      0.75      0.75      7087\n",
      "\n"
     ]
    }
   ],
   "source": [
    "print(classification_report(y_true=y_test,y_pred=(ann1.predict(X_test)>0.5).astype(int)))"
   ]
  },
  {
   "cell_type": "code",
   "execution_count": 77,
   "metadata": {},
   "outputs": [
    {
     "name": "stdout",
     "output_type": "stream",
     "text": [
      "No Skill: ROC AUC=0.500\n",
      "Decision Tree: ROC AUC=0.811\n"
     ]
    },
    {
     "data": {
      "image/png": "[encoded data removed]",
      "text/plain": [
       "<matplotlib.figure.Figure at 0x15475f56320>"
      ]
     },
     "metadata": {},
     "output_type": "display_data"
    }
   ],
   "source": [
    "ROC_AUC_curve_upgraded(ann1,model_name=\"ANN 2\")"
   ]
  },
  {
   "cell_type": "code",
   "execution_count": 78,
   "metadata": {},
   "outputs": [],
   "source": [
    "# Changing the threshold to get a better recall\n",
    "test_predict_ann1=(ann1.predict_proba(test)>0.5).astype(int)"
   ]
  },
  {
   "cell_type": "markdown",
   "metadata": {},
   "source": [
    "### ANN 2"
   ]
  },
  {
   "cell_type": "markdown",
   "metadata": {},
   "source": [
    "A neural network with 2 hidden layer and the ouput layer is a sigmoid function.\n",
    "\n",
    "**Model Tuning:** \n",
    "\n",
    "<br>**loss function:** The loss function we have used here is binary cross entropy. In binary cross entropy, if the model wrongly predicts a class with high confidence then the error will be very high. It is a popular function that is used for binary classification problems.\n",
    "<br>**batch size:** The batch size that is fed to the model for a single update to the weights. If the batch size is 1 then the loss function will move towards the minima in not a very smooth manner.\n",
    "<br>**optimizer:** The optimizer that we have used is stochastic gradient descent which is an iterative method for optimizing the objective function.\n",
    "<br>**activation:** The relu activation function is good choice as it is positive for positive values and 0 for negative values. It doesn't have the vanishing gradient problem. \n",
    "<br>**hidden layer:** 1st hidden layer- 11 nodes of perceptrons   2nd hidden layer- 6 nodes of perceptrons."
   ]
  },
  {
   "cell_type": "code",
   "execution_count": 79,
   "metadata": {},
   "outputs": [],
   "source": [
    "mc_2 = ModelCheckpoint('best_model_ann2.h5', monitor='val_acc', mode='max', verbose=0, save_best_only=True)"
   ]
  },
  {
   "cell_type": "code",
   "execution_count": 80,
   "metadata": {
    "colab": {},
    "colab_type": "code",
    "id": "abj47tu93wSd"
   },
   "outputs": [],
   "source": [
    "ann2 = Sequential()\n",
    "ann2.add(Dense(11, activation='relu', input_shape=(20,)))\n",
    "ann2.add(Dense(6, activation='relu', input_shape=(11,)))\n",
    "ann2.add(Dense(1, activation='sigmoid', input_shape=(6,)))"
   ]
  },
  {
   "cell_type": "code",
   "execution_count": 81,
   "metadata": {},
   "outputs": [],
   "source": [
    "ann2.compile(loss='binary_crossentropy', optimizer='sgd', metrics=['accuracy'])"
   ]
  },
  {
   "cell_type": "code",
   "execution_count": 82,
   "metadata": {
    "colab": {
     "base_uri": "https://localhost:8080/",
     "height": 571
    },
    "colab_type": "code",
    "id": "NvK208QZziqs",
    "outputId": "f8cab9b0-eb7c-42ff-e476-91bf063c4301",
    "scrolled": false
   },
   "outputs": [
    {
     "data": {
      "text/plain": [
       "<keras.callbacks.History at 0x1547806fef0>"
      ]
     },
     "execution_count": 82,
     "metadata": {},
     "output_type": "execute_result"
    }
   ],
   "source": [
    "ann2.fit(X_train, y_train, epochs=50, batch_size=16, verbose=0,validation_data=(X_test,y_test),callbacks=[mc_2])"
   ]
  },
  {
   "cell_type": "code",
   "execution_count": 83,
   "metadata": {},
   "outputs": [],
   "source": [
    "# loads the weights of the best model\n",
    "ann2.load_weights(\"best_model_ann2.h5\")"
   ]
  },
  {
   "cell_type": "code",
   "execution_count": 84,
   "metadata": {},
   "outputs": [
    {
     "data": {
      "text/plain": [
       "0.7317461898595478"
      ]
     },
     "execution_count": 84,
     "metadata": {},
     "output_type": "execute_result"
    }
   ],
   "source": [
    "#printing the training accuracy\n",
    "accuracy_score((ann2.predict(X_train)>0.5).astype(int),y_train)"
   ]
  },
  {
   "cell_type": "code",
   "execution_count": 85,
   "metadata": {},
   "outputs": [
    {
     "data": {
      "text/plain": [
       "0.7478481727105969"
      ]
     },
     "execution_count": 85,
     "metadata": {},
     "output_type": "execute_result"
    }
   ],
   "source": [
    "#printing the testing accuracy\n",
    "accuracy_score(y_test,(ann2.predict(X_test)>0.5).astype(int))"
   ]
  },
  {
   "cell_type": "code",
   "execution_count": 86,
   "metadata": {
    "colab": {},
    "colab_type": "code",
    "id": "WTQ4KD4f0B4m",
    "outputId": "a914ecf5-6382-401c-b799-6a2589ec26a7"
   },
   "outputs": [
    {
     "name": "stdout",
     "output_type": "stream",
     "text": [
      "              precision    recall  f1-score   support\n",
      "\n",
      "           0       0.74      0.76      0.75      3501\n",
      "           1       0.76      0.74      0.75      3586\n",
      "\n",
      "   micro avg       0.75      0.75      0.75      7087\n",
      "   macro avg       0.75      0.75      0.75      7087\n",
      "weighted avg       0.75      0.75      0.75      7087\n",
      "\n"
     ]
    }
   ],
   "source": [
    "print(classification_report(y_true=y_test,y_pred=(ann2.predict(X_test)>0.5).astype(int)))"
   ]
  },
  {
   "cell_type": "code",
   "execution_count": 87,
   "metadata": {},
   "outputs": [
    {
     "name": "stdout",
     "output_type": "stream",
     "text": [
      "No Skill: ROC AUC=0.500\n",
      "Decision Tree: ROC AUC=0.812\n"
     ]
    },
    {
     "data": {
      "image/png": "[encoded data removed]",
      "text/plain": [
       "<matplotlib.figure.Figure at 0x15478006c50>"
      ]
     },
     "metadata": {},
     "output_type": "display_data"
    }
   ],
   "source": [
    "ROC_AUC_curve_upgraded(ann2,model_name=\"ANN 3\")"
   ]
  },
  {
   "cell_type": "code",
   "execution_count": 88,
   "metadata": {},
   "outputs": [],
   "source": [
    "# Changing the threshold to get a better recall\n",
    "test_predict_ann2=(ann2.predict_proba(test)>0.5).astype(int)"
   ]
  },
  {
   "cell_type": "markdown",
   "metadata": {
    "colab_type": "text",
    "id": "-zHKhW2R3ZdB"
   },
   "source": [
    "## Prediction and Interpretation"
   ]
  },
  {
   "cell_type": "code",
   "execution_count": 99,
   "metadata": {
    "colab": {},
    "colab_type": "code",
    "id": "PZdkoFsk3ZdC"
   },
   "outputs": [],
   "source": [
    "summary=pd.DataFrame({\"Algorithm\":[\"NBC\",\"KNN\",\"SVM-Linear\",\"SVM-RBF\",\"RF\",\"GBM\",\"LR\",\"DT\",\"ANN0\",\"ANN1\",\"ANN2\"],\n",
    "                      \"Recall\":[0.72,0.75,.70,.70,.74,.76,.71,0.69,.73,.74,.74],\n",
    "                      \"Accuracy\":[0.7061,0.7381,0.7392,.7426,.7378,.7441,.7409,.7340,.7431,.7464,.7478],\n",
    "                      \"Avg. time taken to train one model(mins)\":[0.001,.25,0.017,1.14,0.05,0.09,0.02,0.001,.15,0.08,.17],\n",
    "                      \"Avg. to grid search(mins)\":[0.025,24.2,0.42,205,32.9,50.9,.34,.34,7.5,4.17,8.3],\n",
    "                      \"Hyperparameters\":[{'var_smoothing': 0.1},{'p': 1, 'n_neighbors': 100, 'weights': 'uniform'},\n",
    "                                         {'C': 0.01, 'penalty': 'l2'},{'C': 0.8, 'gamma': 0.1},\n",
    "                                        {'min_samples_split': 500, 'min_samples_leaf': 10, 'max_features': 'sqrt', 'n_estimators': 2000, 'max_depth': 10},\n",
    "                                        {'min_samples_split': 1000, 'max_features': 'auto', 'n_estimators': 100, 'min_samples_leaf': 30, 'subsample': 0.6, 'max_depth': 5},\n",
    "                                        {'C': 0.1, 'penalty': 'l1'},{'min_samples_split': 500, 'max_depth': 20, 'max_features': 'auto', 'min_samples_leaf': 10},\n",
    "                                        {'loss_function':\"binary_crossentropy\",\"epochs\":50,\"batch_size\":16,\"optimizer\":\"sgd\"},\n",
    "                                        {'loss_function':\"binary_crossentropy\",\"epochs\":50,\"batch_size\":16,\"optimizer\":\"sgd\"},\n",
    "                                        {'loss_function':\"binary_crossentropy\",\"epochs\":50,\"batch_size\":16,\"optimizer\":\"sgd\"}]})"
   ]
  },
  {
   "cell_type": "code",
   "execution_count": 100,
   "metadata": {
    "colab": {},
    "colab_type": "code",
    "id": "Ud_Q2xee3ZdD",
    "outputId": "e8f70ff2-5492-4171-adfa-7799c0c93602"
   },
   "outputs": [
    {
     "data": {
      "text/html": [
       "<div>\n",
       "<style scoped>\n",
       "    .dataframe tbody tr th:only-of-type {\n",
       "        vertical-align: middle;\n",
       "    }\n",
       "\n",
       "    .dataframe tbody tr th {\n",
       "        vertical-align: top;\n",
       "    }\n",
       "\n",
       "    .dataframe thead th {\n",
       "        text-align: right;\n",
       "    }\n",
       "</style>\n",
       "<table border=\"1\" class=\"dataframe\">\n",
       "  <thead>\n",
       "    <tr style=\"text-align: right;\">\n",
       "      <th></th>\n",
       "      <th>Accuracy</th>\n",
       "      <th>Algorithm</th>\n",
       "      <th>Avg. time taken to train one model(mins)</th>\n",
       "      <th>Avg. to grid search(mins)</th>\n",
       "      <th>Hyperparameters</th>\n",
       "      <th>Recall</th>\n",
       "    </tr>\n",
       "  </thead>\n",
       "  <tbody>\n",
       "    <tr>\n",
       "      <th>10</th>\n",
       "      <td>0.7478</td>\n",
       "      <td>ANN2</td>\n",
       "      <td>0.170</td>\n",
       "      <td>8.300</td>\n",
       "      <td>{'loss_function': 'binary_crossentropy', 'batc...</td>\n",
       "      <td>0.74</td>\n",
       "    </tr>\n",
       "    <tr>\n",
       "      <th>9</th>\n",
       "      <td>0.7464</td>\n",
       "      <td>ANN1</td>\n",
       "      <td>0.080</td>\n",
       "      <td>4.170</td>\n",
       "      <td>{'loss_function': 'binary_crossentropy', 'batc...</td>\n",
       "      <td>0.74</td>\n",
       "    </tr>\n",
       "    <tr>\n",
       "      <th>5</th>\n",
       "      <td>0.7441</td>\n",
       "      <td>GBM</td>\n",
       "      <td>0.090</td>\n",
       "      <td>50.900</td>\n",
       "      <td>{'max_depth': 5, 'min_samples_split': 1000, 'm...</td>\n",
       "      <td>0.76</td>\n",
       "    </tr>\n",
       "    <tr>\n",
       "      <th>8</th>\n",
       "      <td>0.7431</td>\n",
       "      <td>ANN0</td>\n",
       "      <td>0.150</td>\n",
       "      <td>7.500</td>\n",
       "      <td>{'loss_function': 'binary_crossentropy', 'batc...</td>\n",
       "      <td>0.73</td>\n",
       "    </tr>\n",
       "    <tr>\n",
       "      <th>3</th>\n",
       "      <td>0.7426</td>\n",
       "      <td>SVM-RBF</td>\n",
       "      <td>1.140</td>\n",
       "      <td>205.000</td>\n",
       "      <td>{'C': 0.8, 'gamma': 0.1}</td>\n",
       "      <td>0.70</td>\n",
       "    </tr>\n",
       "    <tr>\n",
       "      <th>6</th>\n",
       "      <td>0.7409</td>\n",
       "      <td>LR</td>\n",
       "      <td>0.020</td>\n",
       "      <td>0.340</td>\n",
       "      <td>{'C': 0.1, 'penalty': 'l1'}</td>\n",
       "      <td>0.71</td>\n",
       "    </tr>\n",
       "    <tr>\n",
       "      <th>2</th>\n",
       "      <td>0.7392</td>\n",
       "      <td>SVM-Linear</td>\n",
       "      <td>0.017</td>\n",
       "      <td>0.420</td>\n",
       "      <td>{'C': 0.01, 'penalty': 'l2'}</td>\n",
       "      <td>0.70</td>\n",
       "    </tr>\n",
       "    <tr>\n",
       "      <th>1</th>\n",
       "      <td>0.7381</td>\n",
       "      <td>KNN</td>\n",
       "      <td>0.250</td>\n",
       "      <td>24.200</td>\n",
       "      <td>{'p': 1, 'n_neighbors': 100, 'weights': 'unifo...</td>\n",
       "      <td>0.75</td>\n",
       "    </tr>\n",
       "    <tr>\n",
       "      <th>4</th>\n",
       "      <td>0.7378</td>\n",
       "      <td>RF</td>\n",
       "      <td>0.050</td>\n",
       "      <td>32.900</td>\n",
       "      <td>{'min_samples_leaf': 10, 'n_estimators': 2000,...</td>\n",
       "      <td>0.74</td>\n",
       "    </tr>\n",
       "    <tr>\n",
       "      <th>7</th>\n",
       "      <td>0.7340</td>\n",
       "      <td>DT</td>\n",
       "      <td>0.001</td>\n",
       "      <td>0.340</td>\n",
       "      <td>{'min_samples_leaf': 10, 'max_depth': 20, 'min...</td>\n",
       "      <td>0.69</td>\n",
       "    </tr>\n",
       "    <tr>\n",
       "      <th>0</th>\n",
       "      <td>0.7061</td>\n",
       "      <td>NBC</td>\n",
       "      <td>0.001</td>\n",
       "      <td>0.025</td>\n",
       "      <td>{'var_smoothing': 0.1}</td>\n",
       "      <td>0.72</td>\n",
       "    </tr>\n",
       "  </tbody>\n",
       "</table>\n",
       "</div>"
      ],
      "text/plain": [
       "    Accuracy   Algorithm  Avg. time taken to train one model(mins)  \\\n",
       "10    0.7478        ANN2                                     0.170   \n",
       "9     0.7464        ANN1                                     0.080   \n",
       "5     0.7441         GBM                                     0.090   \n",
       "8     0.7431        ANN0                                     0.150   \n",
       "3     0.7426     SVM-RBF                                     1.140   \n",
       "6     0.7409          LR                                     0.020   \n",
       "2     0.7392  SVM-Linear                                     0.017   \n",
       "1     0.7381         KNN                                     0.250   \n",
       "4     0.7378          RF                                     0.050   \n",
       "7     0.7340          DT                                     0.001   \n",
       "0     0.7061         NBC                                     0.001   \n",
       "\n",
       "    Avg. to grid search(mins)  \\\n",
       "10                      8.300   \n",
       "9                       4.170   \n",
       "5                      50.900   \n",
       "8                       7.500   \n",
       "3                     205.000   \n",
       "6                       0.340   \n",
       "2                       0.420   \n",
       "1                      24.200   \n",
       "4                      32.900   \n",
       "7                       0.340   \n",
       "0                       0.025   \n",
       "\n",
       "                                      Hyperparameters  Recall  \n",
       "10  {'loss_function': 'binary_crossentropy', 'batc...    0.74  \n",
       "9   {'loss_function': 'binary_crossentropy', 'batc...    0.74  \n",
       "5   {'max_depth': 5, 'min_samples_split': 1000, 'm...    0.76  \n",
       "8   {'loss_function': 'binary_crossentropy', 'batc...    0.73  \n",
       "3                            {'C': 0.8, 'gamma': 0.1}    0.70  \n",
       "6                         {'C': 0.1, 'penalty': 'l1'}    0.71  \n",
       "2                        {'C': 0.01, 'penalty': 'l2'}    0.70  \n",
       "1   {'p': 1, 'n_neighbors': 100, 'weights': 'unifo...    0.75  \n",
       "4   {'min_samples_leaf': 10, 'n_estimators': 2000,...    0.74  \n",
       "7   {'min_samples_leaf': 10, 'max_depth': 20, 'min...    0.69  \n",
       "0                              {'var_smoothing': 0.1}    0.72  "
      ]
     },
     "execution_count": 100,
     "metadata": {},
     "output_type": "execute_result"
    }
   ],
   "source": [
    "summary.sort_values(by=\"Accuracy\",ascending=False)"
   ]
  },
  {
   "cell_type": "code",
   "execution_count": 101,
   "metadata": {},
   "outputs": [
    {
     "name": "stdout",
     "output_type": "stream",
     "text": [
      "Feature Importance by Highest to Lowest(Top 10)\n"
     ]
    },
    {
     "data": {
      "text/html": [
       "<div>\n",
       "<style scoped>\n",
       "    .dataframe tbody tr th:only-of-type {\n",
       "        vertical-align: middle;\n",
       "    }\n",
       "\n",
       "    .dataframe tbody tr th {\n",
       "        vertical-align: top;\n",
       "    }\n",
       "\n",
       "    .dataframe thead th {\n",
       "        text-align: right;\n",
       "    }\n",
       "</style>\n",
       "<table border=\"1\" class=\"dataframe\">\n",
       "  <thead>\n",
       "    <tr style=\"text-align: right;\">\n",
       "      <th></th>\n",
       "      <th>Decision Tree</th>\n",
       "      <th>GBM</th>\n",
       "      <th>Random Forest</th>\n",
       "    </tr>\n",
       "  </thead>\n",
       "  <tbody>\n",
       "    <tr>\n",
       "      <th>0</th>\n",
       "      <td>High Blood Pressure</td>\n",
       "      <td>High Blood Pressure</td>\n",
       "      <td>High Blood Pressure</td>\n",
       "    </tr>\n",
       "    <tr>\n",
       "      <th>1</th>\n",
       "      <td>BMI</td>\n",
       "      <td>Cholesterol_normal</td>\n",
       "      <td>Low Blood Pressure</td>\n",
       "    </tr>\n",
       "    <tr>\n",
       "      <th>2</th>\n",
       "      <td>Cholesterol_normal</td>\n",
       "      <td>BMI</td>\n",
       "      <td>Cholesterol_normal</td>\n",
       "    </tr>\n",
       "    <tr>\n",
       "      <th>3</th>\n",
       "      <td>Age_binned_2</td>\n",
       "      <td>Cholesterol_high</td>\n",
       "      <td>BMI</td>\n",
       "    </tr>\n",
       "    <tr>\n",
       "      <th>4</th>\n",
       "      <td>Low Blood Pressure</td>\n",
       "      <td>Age_binned_2</td>\n",
       "      <td>Age_binned_2</td>\n",
       "    </tr>\n",
       "    <tr>\n",
       "      <th>5</th>\n",
       "      <td>Cholesterol_high</td>\n",
       "      <td>Age_binned_3</td>\n",
       "      <td>Age_binned_3</td>\n",
       "    </tr>\n",
       "    <tr>\n",
       "      <th>6</th>\n",
       "      <td>Weight</td>\n",
       "      <td>Low Blood Pressure</td>\n",
       "      <td>Weight</td>\n",
       "    </tr>\n",
       "    <tr>\n",
       "      <th>7</th>\n",
       "      <td>Age_binned_3</td>\n",
       "      <td>Weight</td>\n",
       "      <td>Cholesterol_high</td>\n",
       "    </tr>\n",
       "    <tr>\n",
       "      <th>8</th>\n",
       "      <td>Age_binned_6</td>\n",
       "      <td>Age_binned_4</td>\n",
       "      <td>Age_binned_4</td>\n",
       "    </tr>\n",
       "    <tr>\n",
       "      <th>9</th>\n",
       "      <td>Age_binned_4</td>\n",
       "      <td>Height</td>\n",
       "      <td>Age_binned_6</td>\n",
       "    </tr>\n",
       "  </tbody>\n",
       "</table>\n",
       "</div>"
      ],
      "text/plain": [
       "         Decision Tree                  GBM        Random Forest\n",
       "0  High Blood Pressure  High Blood Pressure  High Blood Pressure\n",
       "1                  BMI   Cholesterol_normal   Low Blood Pressure\n",
       "2   Cholesterol_normal                  BMI   Cholesterol_normal\n",
       "3         Age_binned_2     Cholesterol_high                  BMI\n",
       "4   Low Blood Pressure         Age_binned_2         Age_binned_2\n",
       "5     Cholesterol_high         Age_binned_3         Age_binned_3\n",
       "6               Weight   Low Blood Pressure               Weight\n",
       "7         Age_binned_3               Weight     Cholesterol_high\n",
       "8         Age_binned_6         Age_binned_4         Age_binned_4\n",
       "9         Age_binned_4               Height         Age_binned_6"
      ]
     },
     "execution_count": 101,
     "metadata": {},
     "output_type": "execute_result"
    }
   ],
   "source": [
    "feature_importance=pd.DataFrame({\"Random Forest\":['High Blood Pressure','Low Blood Pressure','Cholesterol_normal','BMI','Age_binned_2','Age_binned_3',\n",
    "                              'Weight','Cholesterol_high','Age_binned_4','Age_binned_6'],\n",
    "            \"GBM\":['High Blood Pressure','Cholesterol_normal','BMI','Cholesterol_high','Age_binned_2','Age_binned_3','Low Blood Pressure',\n",
    " 'Weight','Age_binned_4','Height'],\n",
    "            \"Decision Tree\":['High Blood Pressure','BMI','Cholesterol_normal','Age_binned_2','Low Blood Pressure','Cholesterol_high',\n",
    " 'Weight','Age_binned_3','Age_binned_6','Age_binned_4']})\n",
    "print(\"Feature Importance by Highest to Lowest(Top 10)\")\n",
    "feature_importance"
   ]
  },
  {
   "cell_type": "markdown",
   "metadata": {
    "colab_type": "text",
    "id": "55XXNhV13ZdG"
   },
   "source": [
    "**Interpretation and Conclusion:**\n",
    "\n",
    "**As the number of hidden layers increased in the neural network, the training accuracy increased but the validation accuracy did not increase after a point and started to be very low compared to the training accuracy. This was a sign of overfitting on the training data.**\n",
    "\n",
    "**From our summary table, logistic regression, linear svm and ANN0 can be seen to be very close to each other in the table as they have similar validation accuracy. The results are close due to the fact that all of them use a linear boundary to separate the classes.**\n",
    "\n",
    "**From the feature importance table, we can see that top 10 features for all the tree based algorithms are the same. Only the order of importance has changed. High Blood Pressure is the most important feature in predicting the disease as it is the top feature for all the algorithms.**\n",
    "\n",
    "**The ANN02 has the highest accuracy. The area under the curve is close to 0.8 for all the models which means that the model are not just randomly predicting and the true positive rate is good. The recall is also good for all the models with GBM having the highest recall which was achieved after tuning the threshold in the last assignment.**\n",
    "\n",
    "**All the models have testing accuracy close to the training accuracy which mean that the models are able to generalize the data nicely. Also, it means that the training data and the testing data had similar distributions. So, the performance was the same on both the sets.**\n",
    "\n",
    "**Our svm linear model, ANN0 and Logistic Regression has a good accuracy in predicting the data so maybe it means that a linear decision boundary could work for separating the classes.**"
   ]
  },
  {
   "cell_type": "code",
   "execution_count": 102,
   "metadata": {
    "colab": {},
    "colab_type": "code",
    "id": "-Hnn6HQM3ZdG"
   },
   "outputs": [],
   "source": [
    "# Creating the columns for all the model predictions and storing them in the dataframe\n",
    "final_prediction[\"DT\"]=test_predict_dt\n",
    "final_prediction[\"LR\"]=test_predict_lr\n",
    "final_prediction[\"ANN0\"]=test_predict_ann0\n",
    "final_prediction[\"ANN1\"]=test_predict_ann1\n",
    "final_prediction[\"ANN2\"]=test_predict_ann2"
   ]
  },
  {
   "cell_type": "code",
   "execution_count": 103,
   "metadata": {
    "colab": {},
    "colab_type": "code",
    "id": "DUSuJOF-3ZdI",
    "scrolled": true
   },
   "outputs": [],
   "source": [
    "# Storing the final predictions in csv file\n",
    "final_prediction.to_csv(\"test_prediction.csv\",index=False)"
   ]
  }
 ],
 "metadata": {
  "accelerator": "GPU",
  "colab": {
   "name": "HW_4_Parihar_Tanishk.ipynb",
   "provenance": [],
   "toc_visible": true
  },
  "kernelspec": {
   "display_name": "Python 3",
   "language": "python",
   "name": "python3"
  },
  "language_info": {
   "codemirror_mode": {
    "name": "ipython",
    "version": 3
   },
   "file_extension": ".py",
   "mimetype": "text/x-python",
   "name": "python",
   "nbconvert_exporter": "python",
   "pygments_lexer": "ipython3",
   "version": "3.5.4"
  }
 },
 "nbformat": 4,
 "nbformat_minor": 1
}
